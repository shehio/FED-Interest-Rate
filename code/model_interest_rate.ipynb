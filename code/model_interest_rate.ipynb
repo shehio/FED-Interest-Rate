{
 "cells": [
  {
   "cell_type": "code",
   "execution_count": 160,
   "metadata": {},
   "outputs": [],
   "source": [
    "import pandas as pd\n",
    "\n",
    "fedrate_df = pd.read_csv(r\"C:\\Users\\home\\workspace\\FED-Interest-Rate\\data\\FedReserveDataQuarterly.csv\")"
   ]
  },
  {
   "cell_type": "code",
   "execution_count": 161,
   "metadata": {},
   "outputs": [
    {
     "name": "stdout",
     "output_type": "stream",
     "text": [
      "                            OLS Regression Results                            \n",
      "==============================================================================\n",
      "Dep. Variable:           FedFundsRate   R-squared:                       0.942\n",
      "Model:                            OLS   Adj. R-squared:                  0.939\n",
      "Method:                 Least Squares   F-statistic:                     319.7\n",
      "Date:                Mon, 23 Jul 2018   Prob (F-statistic):           2.01e-59\n",
      "Time:                        15:49:03   Log-Likelihood:                -209.21\n",
      "No. Observations:                 104   AIC:                             428.4\n",
      "Df Residuals:                      99   BIC:                             441.6\n",
      "Df Model:                           5                                         \n",
      "Covariance Type:            nonrobust                                         \n",
      "=================================================================================\n",
      "                    coef    std err          t      P>|t|      [0.025      0.975]\n",
      "---------------------------------------------------------------------------------\n",
      "GDPDeflat         2.0161      0.437      4.612      0.000       1.149       2.883\n",
      "CPIRate          -0.3462      0.053     -6.479      0.000      -0.452      -0.240\n",
      "UnemployRate     -0.3284      0.174     -1.891      0.062      -0.673       0.016\n",
      "InflationRate     0.8910      0.075     11.873      0.000       0.742       1.040\n",
      "PCED             -1.2410      0.417     -2.978      0.004      -2.068      -0.414\n",
      "==============================================================================\n",
      "Omnibus:                        6.518   Durbin-Watson:                   0.679\n",
      "Prob(Omnibus):                  0.038   Jarque-Bera (JB):               10.927\n",
      "Skew:                           0.088   Prob(JB):                      0.00424\n",
      "Kurtosis:                       4.578   Cond. No.                         589.\n",
      "==============================================================================\n",
      "\n",
      "Warnings:\n",
      "[1] Standard Errors assume that the covariance matrix of the errors is correctly specified.\n"
     ]
    }
   ],
   "source": [
    "import statsmodels.api as sm\n",
    "from sklearn.linear_model import LinearRegression\n",
    "\n",
    "def print_OLS_model(removedItem = None):\n",
    "    xcolumns = ['GDPDeflat','CPIRate','UnemployRate', 'InflationRate', 'PCED']\n",
    "    if(removedItem != None):\n",
    "        xcolumns.remove(removedItem)\n",
    "    predictors = pd.DataFrame(fedrate_df, columns = xcolumns)\n",
    "    ycolumns = ['FedFundsRate']\n",
    "    response = pd.DataFrame(fedrate_df, columns = ycolumns)\n",
    "    \n",
    "    # OLS\n",
    "    lin_model = sm.OLS(response, predictors).fit()\n",
    "    print(lin_model.summary())\n",
    "\n",
    "print_OLS_model(None)"
   ]
  },
  {
   "cell_type": "code",
   "execution_count": 162,
   "metadata": {},
   "outputs": [
    {
     "name": "stdout",
     "output_type": "stream",
     "text": [
      "               GDPDeflat   CPIRate  UnemployRate       ECI  InflationRate\n",
      "GDPDeflat       1.000000  0.998494     -0.718384  0.992992      -0.672153\n",
      "CPIRate         0.998494  1.000000     -0.713574  0.993855      -0.668419\n",
      "UnemployRate   -0.718384 -0.713574      1.000000 -0.695810       0.401935\n",
      "ECI             0.992992  0.993855     -0.695810  1.000000      -0.632817\n",
      "InflationRate  -0.672153 -0.668419      0.401935 -0.632817       1.000000\n"
     ]
    },
    {
     "data": {
      "image/png": "[encoded data removed]",
      "text/plain": [
       "<Figure size 432x288 with 2 Axes>"
      ]
     },
     "metadata": {},
     "output_type": "display_data"
    }
   ],
   "source": [
    "def correlation_matrix(dataframe):\n",
    "    from matplotlib import pyplot as plt\n",
    "    from matplotlib import cm as cm\n",
    "\n",
    "    fig = plt.figure()\n",
    "    ax1 = fig.add_subplot(111)\n",
    "    cmap = cm.get_cmap('jet', 30)\n",
    "    cax = ax1.imshow(dataframe.corr(), interpolation=\"nearest\", cmap = cmap)\n",
    "    plt.title('Features Correlation')\n",
    "    labels = ['GDP Deflation','CPI Rate','Unemploy Rate', 'Inflation Rate', 'PCED']\n",
    "    fig.colorbar(cax, ticks=[-.7, -.3, 0, .5, .7, 1])\n",
    "    plt.show()\n",
    "\n",
    "print(predictors.corr())\n",
    "correlation_matrix(predictors)\n"
   ]
  },
  {
   "cell_type": "code",
   "execution_count": 163,
   "metadata": {},
   "outputs": [
    {
     "name": "stdout",
     "output_type": "stream",
     "text": [
      "                            OLS Regression Results                            \n",
      "==============================================================================\n",
      "Dep. Variable:           FedFundsRate   R-squared:                       0.929\n",
      "Model:                            OLS   Adj. R-squared:                  0.926\n",
      "Method:                 Least Squares   F-statistic:                     327.9\n",
      "Date:                Mon, 23 Jul 2018   Prob (F-statistic):           1.56e-56\n",
      "Time:                        15:49:07   Log-Likelihood:                -219.34\n",
      "No. Observations:                 104   AIC:                             446.7\n",
      "Df Residuals:                     100   BIC:                             457.2\n",
      "Df Model:                           4                                         \n",
      "Covariance Type:            nonrobust                                         \n",
      "=================================================================================\n",
      "                    coef    std err          t      P>|t|      [0.025      0.975]\n",
      "---------------------------------------------------------------------------------\n",
      "CPIRate          -0.2935      0.057     -5.128      0.000      -0.407      -0.180\n",
      "UnemployRate      0.2129      0.140      1.517      0.132      -0.066       0.491\n",
      "InflationRate     0.9158      0.082     11.157      0.000       0.753       1.079\n",
      "PCED              0.6096      0.124      4.931      0.000       0.364       0.855\n",
      "==============================================================================\n",
      "Omnibus:                        9.777   Durbin-Watson:                   0.637\n",
      "Prob(Omnibus):                  0.008   Jarque-Bera (JB):               14.758\n",
      "Skew:                          -0.408   Prob(JB):                     0.000624\n",
      "Kurtosis:                       4.655   Cond. No.                         146.\n",
      "==============================================================================\n",
      "\n",
      "Warnings:\n",
      "[1] Standard Errors assume that the covariance matrix of the errors is correctly specified.\n",
      "                            OLS Regression Results                            \n",
      "==============================================================================\n",
      "Dep. Variable:           FedFundsRate   R-squared:                       0.917\n",
      "Model:                            OLS   Adj. R-squared:                  0.914\n",
      "Method:                 Least Squares   F-statistic:                     276.0\n",
      "Date:                Mon, 23 Jul 2018   Prob (F-statistic):           4.32e-53\n",
      "Time:                        15:49:07   Log-Likelihood:                -227.59\n",
      "No. Observations:                 104   AIC:                             463.2\n",
      "Df Residuals:                     100   BIC:                             473.8\n",
      "Df Model:                           4                                         \n",
      "Covariance Type:            nonrobust                                         \n",
      "=================================================================================\n",
      "                    coef    std err          t      P>|t|      [0.025      0.975]\n",
      "---------------------------------------------------------------------------------\n",
      "GDPDeflat         1.4114      0.507      2.784      0.006       0.405       2.417\n",
      "UnemployRate      0.3741      0.161      2.323      0.022       0.055       0.694\n",
      "InflationRate     0.9383      0.089     10.581      0.000       0.762       1.114\n",
      "PCED             -1.3981      0.494     -2.830      0.006      -2.378      -0.418\n",
      "==============================================================================\n",
      "Omnibus:                       10.480   Durbin-Watson:                   0.565\n",
      "Prob(Omnibus):                  0.005   Jarque-Bera (JB):               10.804\n",
      "Skew:                          -0.666   Prob(JB):                      0.00451\n",
      "Kurtosis:                       3.846   Cond. No.                         336.\n",
      "==============================================================================\n",
      "\n",
      "Warnings:\n",
      "[1] Standard Errors assume that the covariance matrix of the errors is correctly specified.\n",
      "                            OLS Regression Results                            \n",
      "==============================================================================\n",
      "Dep. Variable:           FedFundsRate   R-squared:                       0.936\n",
      "Model:                            OLS   Adj. R-squared:                  0.934\n",
      "Method:                 Least Squares   F-statistic:                     368.5\n",
      "Date:                Mon, 23 Jul 2018   Prob (F-statistic):           6.79e-59\n",
      "Time:                        15:49:07   Log-Likelihood:                -213.67\n",
      "No. Observations:                 104   AIC:                             435.3\n",
      "Df Residuals:                     100   BIC:                             445.9\n",
      "Df Model:                           4                                         \n",
      "Covariance Type:            nonrobust                                         \n",
      "=================================================================================\n",
      "                    coef    std err          t      P>|t|      [0.025      0.975]\n",
      "---------------------------------------------------------------------------------\n",
      "GDPDeflat         0.7630      0.123      6.214      0.000       0.519       1.007\n",
      "CPIRate          -0.3554      0.055     -6.416      0.000      -0.465      -0.246\n",
      "UnemployRate     -0.0644      0.155     -0.415      0.679      -0.372       0.243\n",
      "InflationRate     0.9021      0.078     11.588      0.000       0.748       1.056\n",
      "==============================================================================\n",
      "Omnibus:                        7.507   Durbin-Watson:                   0.663\n",
      "Prob(Omnibus):                  0.023   Jarque-Bera (JB):               13.754\n",
      "Skew:                          -0.124   Prob(JB):                      0.00103\n",
      "Kurtosis:                       4.764   Cond. No.                         166.\n",
      "==============================================================================\n",
      "\n",
      "Warnings:\n",
      "[1] Standard Errors assume that the covariance matrix of the errors is correctly specified.\n",
      "                            OLS Regression Results                            \n",
      "==============================================================================\n",
      "Dep. Variable:           FedFundsRate   R-squared:                       0.940\n",
      "Model:                            OLS   Adj. R-squared:                  0.937\n",
      "Method:                 Least Squares   F-statistic:                     388.7\n",
      "Date:                Mon, 23 Jul 2018   Prob (F-statistic):           5.51e-60\n",
      "Time:                        15:49:07   Log-Likelihood:                -211.06\n",
      "No. Observations:                 104   AIC:                             430.1\n",
      "Df Residuals:                     100   BIC:                             440.7\n",
      "Df Model:                           4                                         \n",
      "Covariance Type:            nonrobust                                         \n",
      "=================================================================================\n",
      "                    coef    std err          t      P>|t|      [0.025      0.975]\n",
      "---------------------------------------------------------------------------------\n",
      "GDPDeflat         1.4575      0.326      4.467      0.000       0.810       2.105\n",
      "CPIRate          -0.2831      0.042     -6.697      0.000      -0.367      -0.199\n",
      "InflationRate     0.8552      0.074     11.629      0.000       0.709       1.001\n",
      "PCED             -0.8386      0.363     -2.311      0.023      -1.559      -0.119\n",
      "==============================================================================\n",
      "Omnibus:                        5.988   Durbin-Watson:                   0.691\n",
      "Prob(Omnibus):                  0.050   Jarque-Bera (JB):                9.589\n",
      "Skew:                          -0.050   Prob(JB):                      0.00827\n",
      "Kurtosis:                       4.484   Cond. No.                         464.\n",
      "==============================================================================\n",
      "\n",
      "Warnings:\n",
      "[1] Standard Errors assume that the covariance matrix of the errors is correctly specified.\n",
      "                            OLS Regression Results                            \n",
      "==============================================================================\n",
      "Dep. Variable:           FedFundsRate   R-squared:                       0.859\n",
      "Model:                            OLS   Adj. R-squared:                  0.853\n",
      "Method:                 Least Squares   F-statistic:                     151.9\n",
      "Date:                Mon, 23 Jul 2018   Prob (F-statistic):           1.44e-41\n",
      "Time:                        15:49:07   Log-Likelihood:                -255.26\n",
      "No. Observations:                 104   AIC:                             518.5\n",
      "Df Residuals:                     100   BIC:                             529.1\n",
      "Df Model:                           4                                         \n",
      "Covariance Type:            nonrobust                                         \n",
      "================================================================================\n",
      "                   coef    std err          t      P>|t|      [0.025      0.975]\n",
      "--------------------------------------------------------------------------------\n",
      "GDPDeflat        2.3884      0.675      3.536      0.001       1.048       3.728\n",
      "CPIRate         -0.4079      0.082     -4.952      0.000      -0.571      -0.244\n",
      "UnemployRate     0.1924      0.260      0.739      0.462      -0.324       0.709\n",
      "PCED            -1.4857      0.645     -2.304      0.023      -2.765      -0.206\n",
      "==============================================================================\n",
      "Omnibus:                       34.405   Durbin-Watson:                   0.330\n",
      "Prob(Omnibus):                  0.000   Jarque-Bera (JB):               63.123\n",
      "Skew:                           1.386   Prob(JB):                     1.96e-14\n",
      "Kurtosis:                       5.624   Cond. No.                         588.\n",
      "==============================================================================\n",
      "\n",
      "Warnings:\n",
      "[1] Standard Errors assume that the covariance matrix of the errors is correctly specified.\n"
     ]
    }
   ],
   "source": [
    "# Feature Selection\n",
    "xcolumns = ['GDPDeflat','CPIRate','PCEDRate','UnemployRate','ECI', 'InflationRate']\n",
    "print_OLS_model('GDPDeflat')\n",
    "print_OLS_model('CPIRate')\n",
    "print_OLS_model('PCED')\n",
    "print_OLS_model('UnemployRate')\n",
    "print_OLS_model('InflationRate')"
   ]
  },
  {
   "cell_type": "code",
   "execution_count": 165,
   "metadata": {},
   "outputs": [
    {
     "name": "stdout",
     "output_type": "stream",
     "text": [
      "[0.24402339 0.24175057 0.05087179 0.22989618 0.23345806]\n"
     ]
    }
   ],
   "source": [
    "from sklearn.ensemble import RandomForestRegressor\n",
    "\n",
    "regr = RandomForestRegressor(max_depth = 5, random_state = 0, n_estimators = 500)\n",
    "regr.fit(predictors, response.values.ravel())\n",
    "print(regr.feature_importances_)\n"
   ]
  },
  {
   "cell_type": "code",
   "execution_count": 168,
   "metadata": {},
   "outputs": [
    {
     "name": "stdout",
     "output_type": "stream",
     "text": [
      "[0.07770419 0.05640898 0.15740306 0.06851672 0.14396705]\n"
     ]
    }
   ],
   "source": [
    "from sklearn.ensemble import GradientBoostingRegressor\n",
    "gbrt = GradientBoostingRegressor(max_depth = 5, random_state = 0, n_estimators = 500)\n",
    "gbrt.fit(predictors, response.values.ravel())\n",
    "print(gbrt.feature_importances_)"
   ]
  },
  {
   "cell_type": "code",
   "execution_count": null,
   "metadata": {},
   "outputs": [],
   "source": []
  }
 ],
 "metadata": {
  "kernelspec": {
   "display_name": "Python 3",
   "language": "python",
   "name": "python3"
  },
  "language_info": {
   "codemirror_mode": {
    "name": "ipython",
    "version": 3
   },
   "file_extension": ".py",
   "mimetype": "text/x-python",
   "name": "python",
   "nbconvert_exporter": "python",
   "pygments_lexer": "ipython3",
   "version": "3.6.5"
  }
 },
 "nbformat": 4,
 "nbformat_minor": 2
}
