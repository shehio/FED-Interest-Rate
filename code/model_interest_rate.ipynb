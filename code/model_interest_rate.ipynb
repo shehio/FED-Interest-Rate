{
 "cells": [
  {
   "cell_type": "code",
   "execution_count": 44,
   "metadata": {},
   "outputs": [],
   "source": [
    "import pandas as pd\n",
    "import statsmodels.api as sm\n",
    "from sklearn.metrics import mean_squared_error, r2_score\n",
    "from sklearn.linear_model import LinearRegression\n",
    "\n",
    "fedrate_df = pd.read_csv(r\"C:\\Users\\home\\workspace\\FED-Interest-Rate\\data\\FedReserveHackathonData.csv\")"
   ]
  },
  {
   "cell_type": "code",
   "execution_count": 57,
   "metadata": {},
   "outputs": [
    {
     "name": "stdout",
     "output_type": "stream",
     "text": [
      "                            OLS Regression Results                            \n",
      "==============================================================================\n",
      "Dep. Variable:           FedFundsRate   R-squared:                       0.988\n",
      "Model:                            OLS   Adj. R-squared:                  0.984\n",
      "Method:                 Least Squares   F-statistic:                     273.9\n",
      "Date:                Mon, 23 Jul 2018   Prob (F-statistic):           4.08e-18\n",
      "Time:                        13:12:47   Log-Likelihood:                -32.758\n",
      "No. Observations:                  26   AIC:                             77.52\n",
      "Df Residuals:                      20   BIC:                             85.07\n",
      "Df Model:                           6                                         \n",
      "Covariance Type:            nonrobust                                         \n",
      "=================================================================================\n",
      "                    coef    std err          t      P>|t|      [0.025      0.975]\n",
      "---------------------------------------------------------------------------------\n",
      "GDPDeflat         4.1366      0.600      6.893      0.000       2.885       5.388\n",
      "CPIRate           1.0478      0.181      5.795      0.000       0.671       1.425\n",
      "PCEDRate         -4.8549      0.723     -6.713      0.000      -6.364      -3.346\n",
      "UnemployRate     -0.8329      0.224     -3.723      0.001      -1.299      -0.366\n",
      "ECI              -1.3390      0.177     -7.568      0.000      -1.708      -0.970\n",
      "InflationRate     0.7014      0.094      7.474      0.000       0.506       0.897\n",
      "==============================================================================\n",
      "Omnibus:                        0.356   Durbin-Watson:                   2.256\n",
      "Prob(Omnibus):                  0.837   Jarque-Bera (JB):                0.010\n",
      "Skew:                          -0.046   Prob(JB):                        0.995\n",
      "Kurtosis:                       3.032   Cond. No.                         947.\n",
      "==============================================================================\n",
      "\n",
      "Warnings:\n",
      "[1] Standard Errors assume that the covariance matrix of the errors is correctly specified.\n"
     ]
    }
   ],
   "source": [
    "xcolumns = ['GDPDeflat','CPIRate','PCEDRate','UnemployRate','ECI', 'InflationRate']\n",
    "predictors = pd.DataFrame(fedrate_df, columns = xcolumns)\n",
    "ycolumns = ['FedFundsRate']\n",
    "response = pd.DataFrame(fedrate_df, columns = ycolumns)\n",
    "\n",
    "# OLS\n",
    "lin_model = sm.OLS(response, predictors).fit()\n",
    "print(lin_model.summary())"
   ]
  },
  {
   "cell_type": "code",
   "execution_count": 56,
   "metadata": {},
   "outputs": [
    {
     "data": {
      "text/plain": [
       "array([[ 175.630362  ,  438.95558   ,  185.467895  ,  -13.8213    ,\n",
       "         243.37398   ,  -25.76658   ],\n",
       "       [ 438.95558   , 1100.40013846,  463.690394  ,  -34.36423077,\n",
       "         609.71515385,  -64.13767692],\n",
       "       [ 185.467895  ,  463.690394  ,  196.2174217 ,  -14.79883   ,\n",
       "         255.963886  ,  -27.611534  ],\n",
       "       [ -13.8213    ,  -34.36423077,  -14.79883   ,    2.10758462,\n",
       "         -18.68152308,    1.68786154],\n",
       "       [ 243.37398   ,  609.71515385,  255.963886  ,  -18.68152308,\n",
       "         342.02481538,  -33.85290769],\n",
       "       [ -25.76658   ,  -64.13767692,  -27.611534  ,    1.68786154,\n",
       "         -33.85290769,    8.36715385]])"
      ]
     },
     "execution_count": 56,
     "metadata": {},
     "output_type": "execute_result"
    }
   ],
   "source": [
    "# covariance matrix\n",
    "np.cov(predictors.transpose())"
   ]
  },
  {
   "cell_type": "code",
   "execution_count": null,
   "metadata": {},
   "outputs": [],
   "source": []
  }
 ],
 "metadata": {
  "kernelspec": {
   "display_name": "Python 3",
   "language": "python",
   "name": "python3"
  },
  "language_info": {
   "codemirror_mode": {
    "name": "ipython",
    "version": 3
   },
   "file_extension": ".py",
   "mimetype": "text/x-python",
   "name": "python",
   "nbconvert_exporter": "python",
   "pygments_lexer": "ipython3",
   "version": "3.6.5"
  }
 },
 "nbformat": 4,
 "nbformat_minor": 2
}
